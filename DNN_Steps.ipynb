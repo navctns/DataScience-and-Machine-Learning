{
 "cells": [
  {
   "cell_type": "code",
   "execution_count": 1,
   "metadata": {},
   "outputs": [],
   "source": [
    "#Load packages\n",
    "import numpy as np\n",
    "import h5py\n",
    "import matplotlib.pyplot as plt\n",
    "from testCases_v4 import *\n",
    "from dnn_utils_v2 import sigmoid, sigmoid_backward,relu, relu_backward\n",
    "\n",
    "%matplotlib inline\n",
    "plt.rcParams['figure.figsize']=(5.0,4.0)\n",
    "#set default size of plots\n",
    "plt.rcParams['image.interpolation']='nearest'\n",
    "plt.rcParams['image.cmap']='gray'\n",
    "\n",
    "%load_ext autoreload\n",
    "%autoreload 2\n",
    "\n",
    "np.random.seed(1)"
   ]
  },
  {
   "cell_type": "code",
   "execution_count": 2,
   "metadata": {},
   "outputs": [],
   "source": [
    "#2 layer neural network\n",
    "\n",
    "#Create and initialize parameters\n",
    "\n",
    "#Model structure is : LINEAR->RELU->LINEAR->SIGMOID\n",
    "#Use random initialization for the wight matrices, use, np.random.randn(shape)*0.01\n",
    "#Use zero initialization for the biases, np.zeros(shape)\n",
    "\n",
    "def initialize_parameters(n_x,n_h,n_y):\n",
    "    \n",
    "    \"\"\"\n",
    "    Argument:\n",
    "    n_x--size of input layer\n",
    "    n_h--size of hidden layer\n",
    "    n_y--size of output layer\n",
    "    \n",
    "    Returns:\n",
    "    \n",
    "    w1----weight matrix of shape(n_h,n_x)\n",
    "    b1----bias vector of shape(n_h,1)\n",
    "    w2----weight matrix of shape(n_y,n_h)\n",
    "    b2----bias vector of shape(n_y,1)\n",
    "    \n",
    "    \"\"\"\n",
    "    np.random.seed(1)\n",
    "    \n",
    "    w1=np.random.randn(n_h,n_x)*0.01\n",
    "    b1=np.zeros((n_h,1))\n",
    "    w2=np.random.randn(n_y,n_h)*0.01\n",
    "    b2=np.zeros((n_y,1))\n",
    "    \n",
    "    #assert\n",
    "    assert(w1.shape==(n_h,n_x))\n",
    "    assert(b1.shape==(n_h,1))\n",
    "    assert(w2.shape==(n_y,n_h))\n",
    "    assert(b2.shape==(n_y,1))\n",
    "    \n",
    "    parameters={\"w1\":w1,\n",
    "               \"b1\":b1,\n",
    "               \"w2\":w2,\n",
    "               \"b2\":b2}\n",
    "    \n",
    "    return parameters\n",
    "    \n",
    "    "
   ]
  },
  {
   "cell_type": "code",
   "execution_count": 3,
   "metadata": {},
   "outputs": [
    {
     "name": "stdout",
     "output_type": "stream",
     "text": [
      "w1=[[ 0.01624345 -0.00611756 -0.00528172]\n",
      " [-0.01072969  0.00865408 -0.02301539]]\n",
      "b1=[[0.]\n",
      " [0.]]\n",
      "w2=[[ 0.01744812 -0.00761207]]\n",
      "b2=[[0.]]\n"
     ]
    }
   ],
   "source": [
    "parameters=initialize_parameters(3,2,1)\n",
    "print(\"w1=\"+str(parameters[\"w1\"]))\n",
    "print(\"b1=\"+str(parameters[\"b1\"]))\n",
    "print(\"w2=\"+str(parameters[\"w2\"]))\n",
    "print(\"b2=\"+str(parameters[\"b2\"]))"
   ]
  },
  {
   "cell_type": "code",
   "execution_count": 4,
   "metadata": {},
   "outputs": [
    {
     "name": "stdout",
     "output_type": "stream",
     "text": [
      "w1=[[ 0.01788628  0.0043651   0.00096497 -0.01863493 -0.00277388]\n",
      " [-0.00354759 -0.00082741 -0.00627001 -0.00043818 -0.00477218]\n",
      " [-0.01313865  0.00884622  0.00881318  0.01709573  0.00050034]\n",
      " [-0.00404677 -0.0054536  -0.01546477  0.00982367 -0.01101068]]\n",
      "b1=[[0.]\n",
      " [0.]\n",
      " [0.]\n",
      " [0.]]\n",
      "w2=[[-0.01185047 -0.0020565   0.01486148  0.00236716]\n",
      " [-0.01023785 -0.00712993  0.00625245 -0.00160513]\n",
      " [-0.00768836 -0.00230031  0.00745056  0.01976111]]\n",
      "b2=[[0.]\n",
      " [0.]\n",
      " [0.]]\n"
     ]
    }
   ],
   "source": [
    "##Graded function initialize_parameters_deep\n",
    "#[LINEAR->RELU] L-1 times-->LINEAR-->SIGMOID\n",
    "\n",
    "def initialize_parameters_deep(layer_dims):\n",
    "    \"\"\"\n",
    "    Arguments:\n",
    "    layer_dims: --python array(list) contains the dimensions of each layer in out network\n",
    "    \n",
    "    Returns:\n",
    "    parameters --python dictionary containing your parameters \"w1,\"b1\",...\"wL\",\"bL\":\n",
    "    \n",
    "    wl----weight matrix of shape(layer_dims[l],layer_dims[l-1])\n",
    "    bl----Bias mabrix of shape(layer_dims[l],1)\n",
    "    \"\"\"\n",
    "    np.random.seed(3)\n",
    "    parameters={}\n",
    "    L=len(layer_dims)\n",
    "    \n",
    "    for l in range(1,L):\n",
    "        \n",
    "        parameters[\"w\"+str(l)]=np.random.randn(layer_dims[l],layer_dims[l-1])*0.01\n",
    "        parameters[\"b\"+str(l)]=np.zeros((layer_dims[l],1))\n",
    "        \n",
    "        assert(parameters[\"w\"+str(l)].shape==(layer_dims[l],layer_dims[l-1]))\n",
    "        assert(parameters[\"b\"+str(l)].shape==(layer_dims[l],1))       \n",
    "        \n",
    "    return parameters\n",
    "\n",
    "parameters=initialize_parameters_deep([5,4,3])\n",
    "\n",
    "print(\"w1=\"+str(parameters[\"w1\"]))\n",
    "print(\"b1=\"+str(parameters[\"b1\"]))\n",
    "print(\"w2=\"+str(parameters[\"w2\"]))\n",
    "print(\"b2=\"+str(parameters[\"b2\"]))\n",
    "        \n",
    "        "
   ]
  },
  {
   "cell_type": "code",
   "execution_count": 5,
   "metadata": {},
   "outputs": [],
   "source": [
    "def linear_forward(A,W,b):\n",
    "    \"\"\"\n",
    "        Implement the linear part of a layer's forward propagation\n",
    "        \n",
    "        Arguments:\n",
    "        \n",
    "        A----Activation from previous layer(or input data):,shape:(size of previsios layer,number of examples)\n",
    "        W----Weight matrix: numpy array of shape:(size of current layer,size of previous layer)\n",
    "        b----bias vector: a numpy array of shape:(size of current layer,1)\n",
    "        \n",
    "        Returns:\n",
    "        \n",
    "        Z----the input of activation function, also called pre-activation parameter\n",
    "        \n",
    "        cache--a python tuple containing \"A\",\"W\", and \"b\", stored for computing the\n",
    "        backward pass efficently\n",
    "        \n",
    "    \"\"\"\n",
    "    Z=np.dot(W,A)+b\n",
    "    \n",
    "    assert(Z.shape==(W.shape[0],A.shape[1]))\n",
    "    \n",
    "    cache=(A,W,b)\n",
    "    \n",
    "    return Z, cache"
   ]
  },
  {
   "cell_type": "code",
   "execution_count": 6,
   "metadata": {},
   "outputs": [
    {
     "name": "stdout",
     "output_type": "stream",
     "text": [
      "Z=[[ 3.26295337 -1.23429987]]\n"
     ]
    }
   ],
   "source": [
    "A,W,b=linear_forward_test_case()\n",
    "\n",
    "Z,linear_cache=linear_forward(A,W,b)\n",
    "print(\"Z=\"+str(Z))"
   ]
  },
  {
   "cell_type": "code",
   "execution_count": 7,
   "metadata": {},
   "outputs": [],
   "source": [
    "def linear_activation_forward(A_prev,W,b,activation):\n",
    "    \n",
    "    \"\"\"\n",
    "        Implement the forward propagation for the LINEAR->ACTIVATION layer\n",
    "        \n",
    "        Argument:\n",
    "        \n",
    "        A_prev -- activation from previous layer(or input data):(size of previous_layer,number of examples)\n",
    "        \n",
    "        W---Weights matrix: numpy array of shape,(size of current layer,size of previous layer)\n",
    "        \n",
    "        b---bias vector, numpy array of shape, (size of current layer,1)\n",
    "        \n",
    "        activation---the activation to be used in this layer, stored as text string:\"sigmoid\" or \"relu\"\n",
    "        \n",
    "        Returns:\n",
    "        \n",
    "        A-- the output of the activation function, also called the post-activation value\n",
    "        cache--a python tuple containing \"linear_cache\" and \"activation_cache\"\n",
    "        \n",
    "        stored for computing the backward pass efficiency\n",
    "        \n",
    "        \n",
    "        \"\"\"\n",
    "    \n",
    "    if activation==\"sigmoid\":\n",
    "        Z,linear_cache=linear_forward(A_prev,W,b)\n",
    "        A,activation_cache=sigmoid(Z)\n",
    "        \n",
    "    elif activation==\"relu\":\n",
    "        Z,linear_cache=linear_forward(A_prev,W,b)\n",
    "        A,activation_cache=relu(Z)\n",
    "            \n",
    "    assert(A.shape==(W.shape[0],A_prev.shape[1]))\n",
    "        \n",
    "    cache=linear_cache,activation_cache\n",
    "        \n",
    "    return A,cache\n",
    "    "
   ]
  },
  {
   "cell_type": "code",
   "execution_count": 8,
   "metadata": {},
   "outputs": [
    {
     "name": "stdout",
     "output_type": "stream",
     "text": [
      "with sigmoid:[[0.96890023 0.11013289]]\n",
      "with relu:[[3.43896131 0.        ]]\n"
     ]
    }
   ],
   "source": [
    "A_prev,W,b=linear_activation_forward_test_case()\n",
    "\n",
    "A,linear_activation_cache=linear_activation_forward(A_prev,W,b,activation=\"sigmoid\")\n",
    "print(\"with sigmoid:\"+str(A))\n",
    "\n",
    "A,linear_activation_cache=linear_activation_forward(A_prev,W,b,activation=\"relu\")\n",
    "print(\"with relu:\"+str(A))"
   ]
  },
  {
   "cell_type": "code",
   "execution_count": 9,
   "metadata": {},
   "outputs": [],
   "source": [
    "def L_model_forward(X,parameters):\n",
    "    \"\"\"\n",
    "        Implement forward propagation for the [LINEAR->RELU]*(L-1)->LINEAR->SIGMOID computation\n",
    "        \n",
    "        Arguments:\n",
    "        \n",
    "        X-----data, numpy array of shape(input size, number of examples)\n",
    "        parameters-- output of initialize_parameters_deep()\n",
    "        \n",
    "        Returns:\n",
    "        \n",
    "        AL --last-post- activation value\n",
    "        caches--list of caches containing:\n",
    "                every cache of linear_relu_forward()\n",
    "                (there are L-1 of them, indexed from 0 to L-2)\n",
    "                the cache of linear_sigmoid_forward()\n",
    "                (there is one, indexed L-1)\n",
    "    \"\"\"\n",
    "    \n",
    "    caches=[]\n",
    "    A=X\n",
    "    L=len(parameters)//2 #number of layers in the neural network\n",
    "    \n",
    "    #Implement[LINEAR->RELU]*[L-1] add \"cache\" to the \"caches list\"\n",
    "    \n",
    "    for l in range(1,L):\n",
    "        A_prev=A\n",
    "        A,cache=linear_activation_forward(A_prev,parameters[\"W\"+str(l)],parameters[\"b\"+str(l)],activation=\"relu\")\n",
    "        caches.append(cache)\n",
    "    \n",
    "    AL,cache=linear_activation_forward(A,parameters[\"W\"+str(L)],parameters[\"b\"+str(L)],activation=\"sigmoid\")\n",
    "    caches.append(cache)\n",
    "    \n",
    "    assert(AL.shape==(1,X.shape[1]))\n",
    "    return AL,caches"
   ]
  },
  {
   "cell_type": "code",
   "execution_count": 10,
   "metadata": {},
   "outputs": [
    {
     "name": "stdout",
     "output_type": "stream",
     "text": [
      "AL=[[0.03921668 0.70498921 0.19734387 0.04728177]]\n",
      "Length of caches list=3\n"
     ]
    }
   ],
   "source": [
    "X,parameters=L_model_forward_test_case_2hidden()\n",
    "AL,caches=L_model_forward(X,parameters)\n",
    "print(\"AL=\"+str(AL))\n",
    "print(\"Length of caches list=\"+str(len(caches)))\n",
    "#parameters\n"
   ]
  },
  {
   "cell_type": "code",
   "execution_count": 11,
   "metadata": {},
   "outputs": [],
   "source": [
    "#------COST FUNCTION---------\n",
    "\n",
    "#compute the cross_entropy cost J,\n",
    "\n",
    "def compute_cost(AL,Y):\n",
    "    \n",
    "    \"\"\"\n",
    "        Implement the cost function defined by equation\n",
    "        \n",
    "        Arguments:\n",
    "        \n",
    "        AL---Probability vector corresponding to your label predictions, shape(1,number of examples)\n",
    "        \n",
    "        Y---- true \"label\" vector (for example: containing 0 if non-cat, 1 if cat):(1,number of examples)\n",
    "        \n",
    "        Returns:\n",
    "        \n",
    "        cost----cross-entropy cost\n",
    "    \"\"\"\n",
    "    \n",
    "    m=Y.shape[1]#the examples represented as each columns\n",
    "    \n",
    "    #wrong-method#cost=(-1/m)*np.sum((np.dot(Y,np.log(AL))+np.dot(1-Y,np.log(1-AL))))\n",
    "    \n",
    "    cost=(-1/m)*np.sum((np.multiply(Y,np.log(AL))+np.multiply(1-Y,np.log(1-AL))))\n",
    "    \n",
    "    #cost=(-1/m)*np.sum((Y*np.log(AL)+(1-Y)*np.log(1-AL)))----its also a working method\n",
    "    \n",
    "    cost=np.squeeze(cost)# To make sure your cost's shape is what we expect(eg: this turns [[17]] to 17)\n",
    "    \n",
    "    assert(cost.shape == ())\n",
    "    \n",
    "    return cost\n",
    "\n",
    "\n",
    "    \n",
    "    \n",
    "    \n",
    "    "
   ]
  },
  {
   "cell_type": "code",
   "execution_count": 12,
   "metadata": {},
   "outputs": [
    {
     "name": "stdout",
     "output_type": "stream",
     "text": [
      "cost=0.41493159961539694\n"
     ]
    }
   ],
   "source": [
    "Y,AL=compute_cost_test_case()\n",
    "print(\"cost=\"+str(compute_cost(AL,Y)))\n",
    "\n",
    "#Y.shape= (1,3)\n",
    "#AL.shape =(1,3)"
   ]
  },
  {
   "cell_type": "code",
   "execution_count": 88,
   "metadata": {},
   "outputs": [],
   "source": [
    "#------LINEAR BACKWARD------\n",
    "\n",
    "def linear_backward(dZ,cache):\n",
    "    \"\"\"\n",
    "        Implement the linear portion of backward propagation \n",
    "        for a single layer(layer l)\n",
    "        \n",
    "        Arguments:\n",
    "        \n",
    "        dZ-- Cordient of the cost with respect to the linear output(of current layer l)\n",
    "        \n",
    "        cache--tuple of values (A_prev,W,b) coming from the forward propagation in the current layer\n",
    "        \n",
    "        Returns:\n",
    "        \n",
    "        dA_prev---Gradient of the cost with repect to the activation (of the previous layer l-1), same shape as W\n",
    "        \n",
    "        dW---Gradient of the cost with respect to W(current layer l), same type as w\n",
    "        \n",
    "        db---Gradient of the cost with respect to b(current layer l), same shape as b\n",
    "    \"\"\"\n",
    "    \n",
    "    A_prev,W,b=cache\n",
    "    m=A_prev.shape[1]\n",
    "    #db_unit=np.zeros((b.shape[0],b.shape[1]))\n",
    "    \n",
    "    #db.np.zeros(())\n",
    "    dW=(1/m)*np.dot(dZ,A_prev.T)\n",
    "    \n",
    "    #both works---\n",
    "    db=(1/m)*(np.sum(dZ,axis=1))\n",
    "    db=db.reshape(b.shape)\n",
    "    #db=(1/m)*dZ.reshape(b.shape)\n",
    "    #db=(1/m)*dZ.sum(axis=1).reshape(b.shape[0],b.shape[1]) # reshaped because of the effect of braodcasing dZ on db\n",
    "    \n",
    "    dA_prev=np.dot(W.T,dZ)\n",
    "    \n",
    "    assert(dA_prev.shape==A_prev.shape)\n",
    "    assert(dW.shape==W.shape)\n",
    "    assert(db.shape==b.shape)\n",
    "    \n",
    "    return dA_prev,dW,db\n",
    "\n",
    "\n",
    "    \n",
    "    "
   ]
  },
  {
   "cell_type": "code",
   "execution_count": 89,
   "metadata": {},
   "outputs": [
    {
     "name": "stdout",
     "output_type": "stream",
     "text": [
      "dA_prev=[[ 0.51822968 -0.19517421]\n",
      " [-0.40506361  0.15255393]\n",
      " [ 2.37496825 -0.89445391]]\n",
      "dW=[[-0.10076895  1.40685096  1.64992505]]\n",
      "db=[[0.50629448]]\n",
      "length of b in linear_cache: (1, 1) type: <class 'numpy.ndarray'>\n"
     ]
    }
   ],
   "source": [
    "dZ,linear_cache=linear_backward_test_case()\n",
    "A_prev,W,b=linear_cache\n",
    "dA_prev,dW,db=linear_backward(dZ,linear_cache)\n",
    "#print(b.shape)\n",
    "#print(dZ.shape)\n",
    "#sum=dZ.sum(axis=1)\n",
    "#print(sum)\n",
    "print(\"dA_prev=\"+ str(dA_prev))\n",
    "print(\"dW=\"+str(dW))\n",
    "print(\"db=\"+str(db))\n",
    "#print(b.shape)\n",
    "#print(dZ.shape)\n",
    "#print(db.shape)\n",
    "#dZ\n",
    "#b\n",
    "#db.shape\n",
    "print(\"length of b in linear_cache:\",(linear_cache[2].shape),\"type:\",type(linear_cache[2]))"
   ]
  },
  {
   "cell_type": "code",
   "execution_count": 59,
   "metadata": {},
   "outputs": [],
   "source": [
    "###-------LINEAR ACTIVATION BACKWARD----------###\n",
    "\n",
    "def linear_activation_backward(dA,cache,activation):\n",
    "    \"\"\"\n",
    "        Implement the backward propagation for the \n",
    "        LINEAR->ACTIVATION layer\n",
    "        \n",
    "        Arguments:\n",
    "        \n",
    "        dA-- Post-activation gradient for current layer l\n",
    "        cache--tuple of values(linear cache, activation cache) was store for\n",
    "                computing backward propagation efficiently\n",
    "                \n",
    "        activation---the activation to be used in this layer stored as text string: \"sigmoid\" or \"relu\"\n",
    "        \n",
    "        Returns:\n",
    "        \n",
    "            dA_prev ---Gradient of the cost with respect to the activation( of the previous layer l-1),\n",
    "                        same as shape as A_prev\n",
    "                        \n",
    "            dW------Gradient of the cost with respect to W(current layer l), same shape as W\n",
    "            \n",
    "            db-----Gradient of the cost with respect to b.\n",
    "                   (current layer l), same shape as b\n",
    "    \"\"\"\n",
    "    linear_cache,activation_cache=cache\n",
    "    \n",
    "    if activation==\"relu\":\n",
    "        \n",
    "        dZ=relu_backward(dA,activation_cache)\n",
    "        \n",
    "        dA_prev,dW,db=linear_backward(dZ,linear_cache)\n",
    "        \n",
    "    elif activation==\"sigmoid\":\n",
    "        \n",
    "        dZ=sigmoid_backward(dA,activation_cache)\n",
    "        \n",
    "        dA_prev,dW,db=linear_backward(dZ,linear_cache)\n",
    "        \n",
    "    return dA_prev,dW,db\n",
    "    "
   ]
  },
  {
   "cell_type": "code",
   "execution_count": 76,
   "metadata": {},
   "outputs": [
    {
     "name": "stdout",
     "output_type": "stream",
     "text": [
      "sigmoid\n",
      "dA_prev=[[ 0.11017994  0.01105339]\n",
      " [ 0.09466817  0.00949723]\n",
      " [-0.05743092 -0.00576154]]\n",
      "dW=[[ 0.10266786  0.09778551 -0.01968084]]\n",
      "db=[[-0.05729622]]\n",
      "\n",
      "sigmoid: (1, 2)\n",
      "relu\n",
      "dA_prev=[[ 0.44090989  0.        ]\n",
      " [ 0.37883606  0.        ]\n",
      " [-0.2298228   0.        ]]\n",
      "dW=[[ 0.44513824  0.37371418 -0.10478989]]\n",
      "db=[[-0.20837892]]\n",
      "shape of dZ: (1, 2)\n"
     ]
    }
   ],
   "source": [
    "AL,linear_activation_cache=linear_activation_backward_test_case()\n",
    "\n",
    "dA_prev,dW,db=linear_activation_backward(AL,linear_activation_cache,activation=\"sigmoid\")\n",
    "\n",
    "print(\"sigmoid\")\n",
    "print(\"dA_prev=\"+str(dA_prev))\n",
    "print(\"dW=\"+str(dW))\n",
    "print(\"db=\"+str(db)+\"\\n\")\n",
    "print(\"sigmoid:\",dZ.shape)\n",
    "dA_prev,dW,db=linear_activation_backward(AL,linear_activation_cache,activation=\"relu\")\n",
    "\n",
    "print(\"relu\")\n",
    "print(\"dA_prev=\"+str(dA_prev))\n",
    "print(\"dW=\"+str(dW))\n",
    "print(\"db=\"+str(db))\n",
    "\n",
    "print(\"shape of dZ:\",dZ.shape)"
   ]
  },
  {
   "cell_type": "code",
   "execution_count": 61,
   "metadata": {},
   "outputs": [
    {
     "name": "stdout",
     "output_type": "stream",
     "text": [
      "5\n",
      "4\n",
      "3\n",
      "2\n",
      "1\n",
      "0\n"
     ]
    }
   ],
   "source": [
    "for i in reversed(range(6)):\n",
    "    print(i)"
   ]
  },
  {
   "cell_type": "code",
   "execution_count": 96,
   "metadata": {},
   "outputs": [],
   "source": [
    "#----GRADED FUNCTION: L_model_backward\n",
    "\n",
    "def L_model_backward(AL,Y,caches):\n",
    "    \"\"\"\n",
    "        Implement the backward propagation for the \n",
    "        [LINEAR->RELU]*(L-1)->LINEAR->SIGMOID group\n",
    "        \n",
    "        Arguments:\n",
    "        \n",
    "        AL ---Probability vector ,output of the forward propagation(L_model_forward())\n",
    "        \n",
    "        Y--true \"label\" vector (containing 0 if non-cat 1 if cat)\n",
    "        \n",
    "        caches---list of caches containing:\n",
    "                every cache of linear_activation_forward() with \"relu\" (its caches[l], for l in range (L-1)\n",
    "                i.e. l=0,1,2,...,L-2, the cache of linear_activation_forward with \"sigmoid\", its caches[L-1]\n",
    "                \n",
    "        Returns:\n",
    "        \n",
    "        grads:---A dictionary with the gradients\n",
    "        \n",
    "        grads[\"dA\"+str(l)]=...\n",
    "        grads[\"dW\"+str(l)]=...\n",
    "        grads[\"db\"+str(l)]=...\n",
    "        \n",
    "    \"\"\"\n",
    "    \n",
    "    grads={}\n",
    "    L=len(caches)#number of layers\n",
    "    m=AL.shape[1]\n",
    "    Y=Y.reshape(AL.shape)#after this line, Y is the same shape as AL\n",
    "    \n",
    "    #Initializing backpropagation\n",
    "    \n",
    "    dAL=-(np.divide(Y,AL)-np.divide(1-Y,1-AL))\n",
    "    \n",
    "    #Lth layer (SIGMOID->LINEAR) gradients\n",
    "    \n",
    "    #Inputs: \"AL,Y,caches\" Outputs: \"grads[\"dAL\"], grads[\"dWL\"], grads[\"dbL\"]\n",
    "    \n",
    "    current_cache=caches[L-1]\n",
    "    \n",
    "    grads[\"dA\"+str(L-1)],grads[\"dW\"+str(L)],grads[\"db\"+str(L)]=linear_activation_backward(\n",
    "                                        dAL,current_cache,activation=\"sigmoid\") #linear_activation_backward function\n",
    "    \n",
    "    for l in reversed (range(L-1)):\n",
    "        #l'th layer:(RELU->LINEAR) gradients\n",
    "        #Inputs:\"grads[\"dA\"+str(l+1)], current cache\"\n",
    "        #Outputs:\"grads[\"dA\"+str(l)], grads[\"dW\"+str(l+1)], grads[\"db\"+str(l+1)]\n",
    "        \n",
    "        current_cache=caches[l]\n",
    "        dA_prev_temp,dW_temp,db_temp=linear_activation_backward(\n",
    "                                    grads[\"dA\"+str(l+1)],current_cache,activation=\"relu\")\n",
    "        \n",
    "        grads[\"dA\"+str(l)]=dA_prev_temp\n",
    "        grads[\"dW\"+str(l+1)]=dW_temp\n",
    "        grads[\"db\"+str(l+1)]=db_temp\n",
    "        \n",
    "    return grads\n",
    "\n",
    "    "
   ]
  },
  {
   "cell_type": "code",
   "execution_count": 97,
   "metadata": {},
   "outputs": [
    {
     "name": "stdout",
     "output_type": "stream",
     "text": [
      "dW1 = [[0.41010002 0.07807203 0.13798444 0.10502167]\n",
      " [0.         0.         0.         0.        ]\n",
      " [0.05283652 0.01005865 0.01777766 0.0135308 ]]\n",
      "db1 = [[-0.22007063]\n",
      " [ 0.        ]\n",
      " [-0.02835349]]\n",
      "dA1 = [[ 0.12913162 -0.44014127]\n",
      " [-0.14175655  0.48317296]\n",
      " [ 0.01663708 -0.05670698]]\n"
     ]
    }
   ],
   "source": [
    "AL,Y_assess,caches=L_model_backward_test_case()\n",
    "grads=L_model_backward(AL,Y_assess,caches)\n",
    "#print(grads)\n",
    "print_grads(grads)\n",
    "#print(caches[2])\n",
    "#type(caches)\n",
    "#len(caches)\n",
    "#caches.count(0)\n",
    "\n",
    "#print(\"AL.shape:\",AL.shape)\n",
    "#print(\"Y_assess shape:\",Y_assess.shape)\n",
    "#print(\"caches length\",len(caches))"
   ]
  },
  {
   "cell_type": "code",
   "execution_count": 64,
   "metadata": {},
   "outputs": [
    {
     "data": {
      "text/plain": [
       "array([[ 0.64667545, -0.35627076]])"
      ]
     },
     "execution_count": 64,
     "metadata": {},
     "output_type": "execute_result"
    }
   ],
   "source": [
    "caches[1][1]"
   ]
  },
  {
   "cell_type": "code",
   "execution_count": 98,
   "metadata": {},
   "outputs": [],
   "source": [
    "#--------UPDATE PARAMETERS---------#\n",
    "\n",
    "    # Equations---\n",
    "    \n",
    "#  W^[l]=W^[l]-alpha*dW^[l]\n",
    "#  b^[l]=b^[l]-alpha*db^[l]\n",
    "\n",
    "# Update parameters usign gradient descent, on every W^[L] and b^[L] for l=1,2,3,...,L\n",
    "\n",
    "def update_parameters(parameters,grads,learning_rate):\n",
    "    \"\"\"\n",
    "        Update parameters using gradient descent\n",
    "    \n",
    "    Arguments:\n",
    "    \n",
    "        parameters--python dictionary containing your parameters\n",
    "        grads--python dictionary containing your gradients, output of L_model_backward\n",
    "        \n",
    "        Returns:\n",
    "        \n",
    "        parameters--python dictionary conatining your updated parameters\n",
    "        \n",
    "        parameters[\"W\"+str(l)]=...\n",
    "        parameters[\"b\"+str(l)]=...\n",
    "        \n",
    "    \"\"\"\n",
    "    \n",
    "    L=len(parameters)//2 #number of layers in neural network\n",
    "    \n",
    "    #Update rule for each parameters. Use a for loop\n",
    "    \n",
    "    for l in range(L):\n",
    "        parameters[\"W\"+str(l+1)]=parameters[\"W\"+str(l+1)]-learning_rate*grads[\"dW\"+str(l+1)]\n",
    "        parameters[\"b\"+str(l+1)]=parameters[\"b\"+str(l+1)]-learning_rate*grads[\"db\"+str(l+1)]\n",
    "    \n",
    "    return parameters "
   ]
  },
  {
   "cell_type": "code",
   "execution_count": 99,
   "metadata": {},
   "outputs": [
    {
     "name": "stdout",
     "output_type": "stream",
     "text": [
      "W1=[[-0.59562069 -0.09991781 -2.14584584  1.82662008]\n",
      " [-1.76569676 -0.80627147  0.51115557 -1.18258802]\n",
      " [-1.0535704  -0.86128581  0.68284052  2.20374577]]\n",
      "b1=[[-0.04659241]\n",
      " [-1.28888275]\n",
      " [ 0.53405496]]\n",
      "W2=[[-0.55569196  0.0354055   1.32964895]]\n",
      "b2=[[-0.84610769]]\n"
     ]
    }
   ],
   "source": [
    "parameters,grads=update_parameters_test_case()\n",
    "parameters=update_parameters(parameters,grads,0.1)\n",
    "\n",
    "print(\"W1=\"+str(parameters[\"W1\"]))\n",
    "print(\"b1=\"+str(parameters[\"b1\"]))\n",
    "print(\"W2=\"+str(parameters[\"W2\"]))\n",
    "print(\"b2=\"+str(parameters[\"b2\"]))"
   ]
  },
  {
   "cell_type": "code",
   "execution_count": null,
   "metadata": {},
   "outputs": [],
   "source": []
  }
 ],
 "metadata": {
  "kernelspec": {
   "display_name": "Python 3",
   "language": "python",
   "name": "python3"
  },
  "language_info": {
   "codemirror_mode": {
    "name": "ipython",
    "version": 3
   },
   "file_extension": ".py",
   "mimetype": "text/x-python",
   "name": "python",
   "nbconvert_exporter": "python",
   "pygments_lexer": "ipython3",
   "version": "3.5.2"
  }
 },
 "nbformat": 4,
 "nbformat_minor": 2
}
